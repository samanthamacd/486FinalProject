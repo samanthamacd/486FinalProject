{
 "cells": [
  {
   "cell_type": "markdown",
   "metadata": {},
   "source": [
    "## Reading/cleaning the data "
   ]
  },
  {
   "cell_type": "code",
   "execution_count": 7,
   "metadata": {},
   "outputs": [],
   "source": [
    "import pandas as pd \n",
    "import numpy as np "
   ]
  },
  {
   "cell_type": "code",
   "execution_count": null,
   "metadata": {},
   "outputs": [],
   "source": [
    "batter=pd.read_csv('Batting.csv')\n",
    "\n",
    "batter[['last_name', 'first_name']] = batter['last_name, first_name'].str.split(', ', expand=True)\n",
    "batter = batter.drop('last_name, first_name', axis=1)\n",
    "rename_dict = {\n",
    "    'ab': 'AB',\n",
    "    'hit': 'H',\n",
    "    'home_run': 'HR',\n",
    "    'batting_avg': 'AVG',\n",
    "    'slg_percent': 'SLG',\n",
    "    'on_base_percent': 'OBP',\n",
    "    'on_base_plus_slg': 'OPS',\n",
    "    'b_rbi': 'RBI',\n",
    "    'r_total_stolen_base': 'SB',\n",
    "    'player_age': 'Age', \n",
    "    'last_name': 'Last Name', \n",
    "    'first_name': 'First Name'\n",
    "}\n",
    "\n",
    "batter.rename(columns=rename_dict, inplace=True)"
   ]
  },
  {
   "cell_type": "code",
   "execution_count": null,
   "metadata": {},
   "outputs": [],
   "source": [
    "batter['first_name'] = batter['first_name'].str.title()\n",
    "batter['last_name'] = batter['last_name'].str.title()\n",
    "batter['year'] = batter['year'].astype(int)"
   ]
  },
  {
   "cell_type": "code",
   "execution_count": null,
   "metadata": {},
   "outputs": [],
   "source": [
    "batter.to_csv(\"BetterBatter.csv\", sep=\",\")"
   ]
  }
 ],
 "metadata": {
  "kernelspec": {
   "display_name": "base",
   "language": "python",
   "name": "python3"
  },
  "language_info": {
   "codemirror_mode": {
    "name": "ipython",
    "version": 3
   },
   "file_extension": ".py",
   "mimetype": "text/x-python",
   "name": "python",
   "nbconvert_exporter": "python",
   "pygments_lexer": "ipython3",
   "version": "3.8.18"
  },
  "orig_nbformat": 4
 },
 "nbformat": 4,
 "nbformat_minor": 2
}
